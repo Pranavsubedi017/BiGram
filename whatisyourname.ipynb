{
  "nbformat": 4,
  "nbformat_minor": 0,
  "metadata": {
    "colab": {
      "provenance": []
    },
    "kernelspec": {
      "name": "python3",
      "display_name": "Python 3"
    },
    "language_info": {
      "name": "python"
    }
  },
  "cells": [
    {
      "cell_type": "code",
      "execution_count": null,
      "metadata": {
        "id": "fRnd5hSojC4g"
      },
      "outputs": [],
      "source": [
        "import numpy as np\n",
        "name_array=np.ones((27,27,27,27),dtype=int)\n"
      ]
    },
    {
      "cell_type": "code",
      "source": [
        "names=open('/content/drive/MyDrive/names.txt','r').read().splitlines()\n",
        "for name in names:\n",
        "  if name=='elina':\n",
        "    print(name)"
      ],
      "metadata": {
        "colab": {
          "base_uri": "https://localhost:8080/"
        },
        "id": "HcX7wjcAjFn_",
        "outputId": "dd96c4b6-80c3-4a1d-dbac-cdcb615b83ac"
      },
      "execution_count": null,
      "outputs": [
        {
          "output_type": "stream",
          "name": "stdout",
          "text": [
            "elina\n"
          ]
        }
      ]
    },
    {
      "cell_type": "markdown",
      "source": [],
      "metadata": {
        "id": "O2Wz2DxLzz_i"
      }
    },
    {
      "cell_type": "code",
      "source": [],
      "metadata": {
        "id": "wddlrnwez013"
      },
      "execution_count": null,
      "outputs": []
    },
    {
      "cell_type": "code",
      "source": [
        "alphabets=[chr(i) for i in range(ord('a'),ord('z')+1)]# get all alphabets from a to z and ord le chai ascii value dncha ra char le convert garcha\n",
        "#indexing garna ko lagi yesto garekopachi array ma convert garda\n",
        "# print(alphabets)"
      ],
      "metadata": {
        "id": "_66vxPF9jIs5"
      },
      "execution_count": null,
      "outputs": []
    },
    {
      "cell_type": "code",
      "source": [
        "char_to_num={}\n",
        "num_to_char={}\n",
        "for i,j in enumerate(alphabets):\n",
        "  char_to_num[j]=i+1\n",
        "  num_to_char[i+1]=j\n",
        "char_to_num['@']= 0\n",
        "num_to_char[0]='@' #haha we also need this while sampling\n"
      ],
      "metadata": {
        "id": "8ocmkogFjSbK"
      },
      "execution_count": null,
      "outputs": []
    },
    {
      "cell_type": "code",
      "source": [
        "for name in names:\n",
        "  char=['@']+ ['@']+ ['@']  + list(name) + ['@'] #start and end character is @ example @a means the name starts with a\n",
        "  # print(char)\n",
        "  # print(char[1:])\n",
        "\n",
        "  for ch1,ch2,ch3,ch4 in zip(char,char[1:],char[2:],char[3:]):\n",
        "\n",
        "    name_array[char_to_num[ch1],char_to_num[ch2],char_to_num[ch3],char_to_num[ch4]]+=1 #row ma previous character cha ani column ma next and array ma represent garna ko lagi tesko respective index ma convart gareko\n"
      ],
      "metadata": {
        "id": "th3Jf0hPjkBU"
      },
      "execution_count": null,
      "outputs": []
    },
    {
      "cell_type": "code",
      "source": [
        "prob_array=name_array/np.sum(name_array,axis=3,keepdims=True)\n",
        "prob_array[0,0,0,:]"
      ],
      "metadata": {
        "colab": {
          "base_uri": "https://localhost:8080/"
        },
        "id": "gMzNPRNxl01p",
        "outputId": "c75a75b8-149e-45eb-f421-22df16775575"
      },
      "execution_count": null,
      "outputs": [
        {
          "output_type": "execute_result",
          "data": {
            "text/plain": [
              "array([3.11915159e-05, 1.37585777e-01, 4.07673113e-02, 4.81285090e-02,\n",
              "       5.27448534e-02, 4.77854024e-02, 1.30380536e-02, 2.08983157e-02,\n",
              "       2.72925764e-02, 1.84653774e-02, 7.55770430e-02, 9.24516532e-02,\n",
              "       4.90642545e-02, 7.91952589e-02, 3.57766687e-02, 1.23206488e-02,\n",
              "       1.60948222e-02, 2.90081098e-03, 5.11540861e-02, 6.41297567e-02,\n",
              "       4.08296943e-02, 2.46412976e-03, 1.17592015e-02, 9.60698690e-03,\n",
              "       4.21085465e-03, 1.67186525e-02, 2.90081098e-02])"
            ]
          },
          "metadata": {},
          "execution_count": 7
        }
      ]
    },
    {
      "cell_type": "code",
      "source": [
        "purano_index=0\n",
        "prev_index=0\n",
        "index = 0\n",
        "name1=[]\n",
        "while True:\n",
        "\n",
        "  sample = np.random.choice(27, size=1, p=prob_array[prev_index,index], replace=True)\n",
        "  prev_index = index\n",
        "  index = sample[0]    #jun character aaucha tei ta next lot ko previous character ho so doing this using that logic\n",
        "  name1.append(num_to_char[index])\n",
        "\n",
        "  if index == 0:\n",
        "    break\n",
        "''.join(name1)"
      ],
      "metadata": {
        "colab": {
          "base_uri": "https://localhost:8080/",
          "height": 258
        },
        "id": "LDymvL-bqTY-",
        "outputId": "a18576dc-4cfb-42a2-d79f-dc51a187a5b4"
      },
      "execution_count": null,
      "outputs": [
        {
          "output_type": "error",
          "ename": "ValueError",
          "evalue": "'p' must be 1-dimensional",
          "traceback": [
            "\u001b[0;31m---------------------------------------------------------------------------\u001b[0m",
            "\u001b[0;31mValueError\u001b[0m                                Traceback (most recent call last)",
            "\u001b[0;32m<ipython-input-8-69a272eb47f6>\u001b[0m in \u001b[0;36m<cell line: 5>\u001b[0;34m()\u001b[0m\n\u001b[1;32m      5\u001b[0m \u001b[0;32mwhile\u001b[0m \u001b[0;32mTrue\u001b[0m\u001b[0;34m:\u001b[0m\u001b[0;34m\u001b[0m\u001b[0;34m\u001b[0m\u001b[0m\n\u001b[1;32m      6\u001b[0m \u001b[0;34m\u001b[0m\u001b[0m\n\u001b[0;32m----> 7\u001b[0;31m   \u001b[0msample\u001b[0m \u001b[0;34m=\u001b[0m \u001b[0mnp\u001b[0m\u001b[0;34m.\u001b[0m\u001b[0mrandom\u001b[0m\u001b[0;34m.\u001b[0m\u001b[0mchoice\u001b[0m\u001b[0;34m(\u001b[0m\u001b[0;36m27\u001b[0m\u001b[0;34m,\u001b[0m \u001b[0msize\u001b[0m\u001b[0;34m=\u001b[0m\u001b[0;36m1\u001b[0m\u001b[0;34m,\u001b[0m \u001b[0mp\u001b[0m\u001b[0;34m=\u001b[0m\u001b[0mprob_array\u001b[0m\u001b[0;34m[\u001b[0m\u001b[0mprev_index\u001b[0m\u001b[0;34m,\u001b[0m\u001b[0mindex\u001b[0m\u001b[0;34m]\u001b[0m\u001b[0;34m,\u001b[0m \u001b[0mreplace\u001b[0m\u001b[0;34m=\u001b[0m\u001b[0;32mTrue\u001b[0m\u001b[0;34m)\u001b[0m\u001b[0;34m\u001b[0m\u001b[0;34m\u001b[0m\u001b[0m\n\u001b[0m\u001b[1;32m      8\u001b[0m   \u001b[0mprev_index\u001b[0m \u001b[0;34m=\u001b[0m \u001b[0mindex\u001b[0m\u001b[0;34m\u001b[0m\u001b[0;34m\u001b[0m\u001b[0m\n\u001b[1;32m      9\u001b[0m   \u001b[0mindex\u001b[0m \u001b[0;34m=\u001b[0m \u001b[0msample\u001b[0m\u001b[0;34m[\u001b[0m\u001b[0;36m0\u001b[0m\u001b[0;34m]\u001b[0m    \u001b[0;31m#jun character aaucha tei ta next lot ko previous character ho so doing this using that logic\u001b[0m\u001b[0;34m\u001b[0m\u001b[0;34m\u001b[0m\u001b[0m\n",
            "\u001b[0;32mnumpy/random/mtrand.pyx\u001b[0m in \u001b[0;36mnumpy.random.mtrand.RandomState.choice\u001b[0;34m()\u001b[0m\n",
            "\u001b[0;31mValueError\u001b[0m: 'p' must be 1-dimensional"
          ]
        }
      ]
    },
    {
      "cell_type": "code",
      "source": [
        "#generating 10 names at once\n",
        "shyal=25\n",
        "\n",
        "while shyal:\n",
        "  index = 0\n",
        "  prev_index = 0\n",
        "  purano_index=0\n",
        "  current_name=[]\n",
        "  count=0\n",
        "  while True:\n",
        "\n",
        "    sample = np.random.choice(27, size=1, p=prob_array[purano_index,prev_index,index], replace=True)\n",
        "    purano_index = prev_index\n",
        "    prev_index = index\n",
        "    index = sample[0]    #jun character aaucha tei ta next lot ko previous character ho so doing this using that logic\n",
        "    if index != 0:\n",
        "\n",
        "      if count==0:\n",
        "        current_name.append(num_to_char[index].lower())   #just for the capital letter\n",
        "        count+=1\n",
        "      else:\n",
        "\n",
        "        current_name.append(num_to_char[index])\n",
        "\n",
        "\n",
        "    else:\n",
        "     break\n",
        "\n",
        "  if (len(current_name)>=4) & (len(current_name)<=8):\n",
        "    shyal-=1\n",
        "    print(''.join(current_name))"
      ],
      "metadata": {
        "colab": {
          "base_uri": "https://localhost:8080/"
        },
        "id": "y6o-reNLv3Ne",
        "outputId": "f48b39f6-f6cd-446c-aeae-94de8d4eaa8d"
      },
      "execution_count": null,
      "outputs": [
        {
          "output_type": "stream",
          "name": "stdout",
          "text": [
            "keario\n",
            "cathi\n",
            "keylie\n",
            "alarie\n",
            "phneixl\n",
            "brian\n",
            "zafq\n",
            "kale\n",
            "ario\n",
            "kyaum\n",
            "jamil\n",
            "jmae\n",
            "nayah\n",
            "aubhona\n",
            "calen\n",
            "caia\n",
            "yevon\n",
            "sidya\n",
            "brianna\n",
            "dara\n",
            "jose\n",
            "budttc\n",
            "bene\n",
            "matton\n",
            "marlene\n"
          ]
        }
      ]
    },
    {
      "cell_type": "code",
      "source": [],
      "metadata": {
        "id": "bH-PBm7fwLIX"
      },
      "execution_count": null,
      "outputs": []
    },
    {
      "cell_type": "code",
      "source": [],
      "metadata": {
        "id": "GgkKzvLg9YLT"
      },
      "execution_count": null,
      "outputs": []
    },
    {
      "cell_type": "code",
      "source": [],
      "metadata": {
        "id": "wnWvsGIlDF7w"
      },
      "execution_count": null,
      "outputs": []
    }
  ]
}